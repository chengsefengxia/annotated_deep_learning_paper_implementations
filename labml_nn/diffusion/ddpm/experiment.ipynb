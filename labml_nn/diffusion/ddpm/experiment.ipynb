{
 "cells": [
  {
   "cell_type": "markdown",
   "metadata": {
    "id": "AYV_dMVDxyc2",
    "pycharm": {
     "name": "#%% md\n"
    }
   },
   "source": [
    "[![Github](https://img.shields.io/github/stars/labmlai/annotated_deep_learning_paper_implementations?style=social)](https://github.com/labmlai/annotated_deep_learning_paper_implementations)\n",
    "[![Open In Colab](https://colab.research.google.com/assets/colab-badge.svg)](https://colab.research.google.com/github/labmlai/annotated_deep_learning_paper_implementations/blob/master/labml_nn/diffusion/ddpm/experiment.ipynb)\n",
    "\n",
    "## [Denoising Diffusion Probabilistic Models (DDPM)](https://nn.labml.ai/diffusion/ddpm/index.html)\n",
    "\n",
    "This notebook trains a DDPM based model on MNIST digits dataset."
   ]
  },
  {
   "cell_type": "markdown",
   "metadata": {
    "id": "AahG_i2y5tY9",
    "pycharm": {
     "name": "#%% md\n"
    }
   },
   "source": [
    "### Install the packages"
   ]
  },
  {
   "cell_type": "code",
   "metadata": {
    "colab": {
     "base_uri": "https://localhost:8080/"
    },
    "id": "ZCzmCrAIVg0L",
    "outputId": "cf107fb2-4d50-4c67-af34-367624553421",
    "pycharm": {
     "name": "#%%\n"
    },
    "ExecuteTime": {
     "end_time": "2024-10-27T13:28:24.643680Z",
     "start_time": "2024-10-27T13:27:54.998446Z"
    }
   },
   "source": [
    "!pip install labml-nn --quiet"
   ],
   "outputs": [
    {
     "name": "stderr",
     "output_type": "stream",
     "text": [
      "ERROR: pip's dependency resolver does not currently take into account all the packages that are installed. This behaviour is the source of the following dependency conflicts.\n",
      "labml-app 0.5.14 requires labml>=0.5.2, but you have labml 0.4.168 which is incompatible.\n",
      "torchaudio 2.2.2+cu118 requires torch==2.2.2+cu118, but you have torch 2.5.0 which is incompatible.\n"
     ]
    }
   ],
   "execution_count": 1
  },
  {
   "cell_type": "markdown",
   "metadata": {
    "id": "SE2VUQ6L5zxI",
    "pycharm": {
     "name": "#%% md\n"
    }
   },
   "source": [
    "### Imports"
   ]
  },
  {
   "cell_type": "code",
   "metadata": {
    "collapsed": false,
    "jupyter": {
     "outputs_hidden": false
    },
    "pycharm": {
     "name": "#%%\n"
    },
    "ExecuteTime": {
     "end_time": "2024-10-27T13:33:11.697284Z",
     "start_time": "2024-10-27T13:33:08.857890Z"
    }
   },
   "source": [
    "import torch\n",
    "import torch.nn as nn\n",
    "\n",
    "from labml import experiment\n",
    "from labml.configs import option\n",
    "from labml_nn.diffusion.ddpm.experiment import Configs"
   ],
   "outputs": [],
   "execution_count": 2
  },
  {
   "cell_type": "markdown",
   "metadata": {
    "pycharm": {
     "name": "#%% md\n"
    }
   },
   "source": [
    "### Create an experiment"
   ]
  },
  {
   "cell_type": "code",
   "metadata": {
    "collapsed": false,
    "jupyter": {
     "outputs_hidden": false
    },
    "pycharm": {
     "name": "#%%\n"
    },
    "ExecuteTime": {
     "end_time": "2024-10-27T13:33:17.442505Z",
     "start_time": "2024-10-27T13:33:16.088737Z"
    }
   },
   "source": [
    "experiment.create(name=\"diffuse\", writers={'screen'})"
   ],
   "outputs": [],
   "execution_count": 3
  },
  {
   "cell_type": "markdown",
   "metadata": {
    "pycharm": {
     "name": "#%% md\n"
    }
   },
   "source": [
    "### Configurations"
   ]
  },
  {
   "cell_type": "code",
   "metadata": {
    "collapsed": false,
    "jupyter": {
     "outputs_hidden": false
    },
    "pycharm": {
     "name": "#%%\n"
    },
    "ExecuteTime": {
     "end_time": "2024-10-27T13:59:46.428258Z",
     "start_time": "2024-10-27T13:59:43.358046Z"
    }
   },
   "source": "configs = Configs()",
   "outputs": [
    {
     "name": "stdout",
     "output_type": "stream",
     "text": [
      "Requirement already satisfied: labml in d:\\anaconda\\envs\\newpytorch\\lib\\site-packages (0.4.168)\n",
      "Requirement already satisfied: psutil in d:\\anaconda\\envs\\newpytorch\\lib\\site-packages (5.9.0)\n",
      "Collecting py3nvml\n",
      "  Downloading py3nvml-0.2.7-py3-none-any.whl.metadata (13 kB)\n",
      "Requirement already satisfied: gitpython in d:\\anaconda\\envs\\newpytorch\\lib\\site-packages (from labml) (3.1.43)\n",
      "Requirement already satisfied: pyyaml in d:\\anaconda\\envs\\newpytorch\\lib\\site-packages (from labml) (6.0.2)\n",
      "Requirement already satisfied: numpy in d:\\anaconda\\envs\\newpytorch\\lib\\site-packages (from labml) (1.26.3)\n",
      "Collecting xmltodict (from py3nvml)\n",
      "  Downloading xmltodict-0.14.2-py2.py3-none-any.whl.metadata (8.0 kB)\n",
      "Requirement already satisfied: gitdb<5,>=4.0.1 in d:\\anaconda\\envs\\newpytorch\\lib\\site-packages (from gitpython->labml) (4.0.11)\n",
      "Requirement already satisfied: smmap<6,>=3.0.1 in d:\\anaconda\\envs\\newpytorch\\lib\\site-packages (from gitdb<5,>=4.0.1->gitpython->labml) (5.0.1)\n",
      "Downloading py3nvml-0.2.7-py3-none-any.whl (55 kB)\n",
      "Downloading xmltodict-0.14.2-py2.py3-none-any.whl (10.0 kB)\n",
      "Installing collected packages: xmltodict, py3nvml\n",
      "Successfully installed py3nvml-0.2.7 xmltodict-0.14.2\n"
     ]
    }
   ],
   "execution_count": 9
  },
  {
   "cell_type": "markdown",
   "metadata": {
    "pycharm": {
     "name": "#%% md\n"
    }
   },
   "source": [
    "Set experiment configurations and assign a configurations dictionary to override configurations"
   ]
  },
  {
   "cell_type": "code",
   "metadata": {
    "collapsed": false,
    "jupyter": {
     "outputs_hidden": false
    },
    "pycharm": {
     "name": "#%%\n"
    },
    "ExecuteTime": {
     "end_time": "2024-10-27T13:59:50.296633Z",
     "start_time": "2024-10-27T13:59:50.210668Z"
    }
   },
   "source": [
    "experiment.configs(configs, {\n",
    "    'dataset': 'MNIST',\n",
    "    'image_channels': 1,\n",
    "    'epochs': 5,\n",
    "})"
   ],
   "outputs": [
    {
     "ename": "ModuleNotFoundError",
     "evalue": "No module named 'ipywidgets'",
     "output_type": "error",
     "traceback": [
      "\u001B[1;31m---------------------------------------------------------------------------\u001B[0m",
      "\u001B[1;31mModuleNotFoundError\u001B[0m                       Traceback (most recent call last)",
      "Cell \u001B[1;32mIn[10], line 1\u001B[0m\n\u001B[1;32m----> 1\u001B[0m \u001B[43mexperiment\u001B[49m\u001B[38;5;241;43m.\u001B[39;49m\u001B[43mconfigs\u001B[49m\u001B[43m(\u001B[49m\u001B[43mconfigs\u001B[49m\u001B[43m,\u001B[49m\u001B[43m \u001B[49m\u001B[43m{\u001B[49m\n\u001B[0;32m      2\u001B[0m \u001B[43m    \u001B[49m\u001B[38;5;124;43m'\u001B[39;49m\u001B[38;5;124;43mdataset\u001B[39;49m\u001B[38;5;124;43m'\u001B[39;49m\u001B[43m:\u001B[49m\u001B[43m \u001B[49m\u001B[38;5;124;43m'\u001B[39;49m\u001B[38;5;124;43mMNIST\u001B[39;49m\u001B[38;5;124;43m'\u001B[39;49m\u001B[43m,\u001B[49m\n\u001B[0;32m      3\u001B[0m \u001B[43m    \u001B[49m\u001B[38;5;124;43m'\u001B[39;49m\u001B[38;5;124;43mimage_channels\u001B[39;49m\u001B[38;5;124;43m'\u001B[39;49m\u001B[43m:\u001B[49m\u001B[43m \u001B[49m\u001B[38;5;241;43m1\u001B[39;49m\u001B[43m,\u001B[49m\n\u001B[0;32m      4\u001B[0m \u001B[43m    \u001B[49m\u001B[38;5;124;43m'\u001B[39;49m\u001B[38;5;124;43mepochs\u001B[39;49m\u001B[38;5;124;43m'\u001B[39;49m\u001B[43m:\u001B[49m\u001B[43m \u001B[49m\u001B[38;5;241;43m5\u001B[39;49m\u001B[43m,\u001B[49m\n\u001B[0;32m      5\u001B[0m \u001B[43m}\u001B[49m\u001B[43m)\u001B[49m\n",
      "File \u001B[1;32mD:\\Anaconda\\envs\\newpytorch\\lib\\site-packages\\labml\\experiment.py:272\u001B[0m, in \u001B[0;36mconfigs\u001B[1;34m(*args)\u001B[0m\n\u001B[0;32m    269\u001B[0m     \u001B[38;5;28;01mraise\u001B[39;00m \u001B[38;5;167;01mRuntimeError\u001B[39;00m(\u001B[38;5;124m\"\u001B[39m\u001B[38;5;124mInvalid call to calculate configs\u001B[39m\u001B[38;5;124m\"\u001B[39m)\n\u001B[0;32m    271\u001B[0m \u001B[38;5;28;01mif\u001B[39;00m \u001B[38;5;28misinstance\u001B[39m(conf, BaseConfigs):\n\u001B[1;32m--> 272\u001B[0m     \u001B[43m_experiment_singleton\u001B[49m\u001B[43m(\u001B[49m\u001B[43m)\u001B[49m\u001B[38;5;241;43m.\u001B[39;49m\u001B[43mcalc_configs\u001B[49m\u001B[43m(\u001B[49m\u001B[43mconf\u001B[49m\u001B[43m,\u001B[49m\u001B[43m \u001B[49m\u001B[43mconf_override\u001B[49m\u001B[43m)\u001B[49m\n\u001B[0;32m    273\u001B[0m \u001B[38;5;28;01melif\u001B[39;00m \u001B[38;5;28misinstance\u001B[39m(conf, \u001B[38;5;28mdict\u001B[39m):\n\u001B[0;32m    274\u001B[0m     _experiment_singleton()\u001B[38;5;241m.\u001B[39mcalc_configs(conf, conf_override)\n",
      "File \u001B[1;32mD:\\Anaconda\\envs\\newpytorch\\lib\\site-packages\\labml\\internal\\experiment\\__init__.py:341\u001B[0m, in \u001B[0;36mExperiment.calc_configs\u001B[1;34m(self, configs, configs_override)\u001B[0m\n\u001B[0;32m    338\u001B[0m \u001B[38;5;28mself\u001B[39m\u001B[38;5;241m.\u001B[39mconfigs_processor \u001B[38;5;241m=\u001B[39m ConfigProcessor(configs, configs_override)\n\u001B[0;32m    340\u001B[0m \u001B[38;5;28;01mif\u001B[39;00m \u001B[38;5;28mself\u001B[39m\u001B[38;5;241m.\u001B[39mrun\u001B[38;5;241m.\u001B[39mdistributed_rank \u001B[38;5;241m==\u001B[39m \u001B[38;5;28mself\u001B[39m\u001B[38;5;241m.\u001B[39mrun\u001B[38;5;241m.\u001B[39mdistributed_main_rank:\n\u001B[1;32m--> 341\u001B[0m     \u001B[43mlogger\u001B[49m\u001B[38;5;241;43m.\u001B[39;49m\u001B[43mlog\u001B[49m\u001B[43m(\u001B[49m\u001B[43m)\u001B[49m\n",
      "File \u001B[1;32mD:\\Anaconda\\envs\\newpytorch\\lib\\site-packages\\labml\\logger.py:129\u001B[0m, in \u001B[0;36mlog\u001B[1;34m(is_new_line, is_reset, *args)\u001B[0m\n\u001B[0;32m    127\u001B[0m \u001B[38;5;28;01mif\u001B[39;00m \u001B[38;5;28mlen\u001B[39m(args) \u001B[38;5;241m==\u001B[39m \u001B[38;5;241m0\u001B[39m:\n\u001B[0;32m    128\u001B[0m     \u001B[38;5;28;01massert\u001B[39;00m is_new_line\n\u001B[1;32m--> 129\u001B[0m     \u001B[43m_internal\u001B[49m\u001B[43m(\u001B[49m\u001B[43m)\u001B[49m\u001B[38;5;241m.\u001B[39mlog([], is_new_line\u001B[38;5;241m=\u001B[39mis_new_line, is_reset\u001B[38;5;241m=\u001B[39mis_reset)\n\u001B[0;32m    130\u001B[0m \u001B[38;5;28;01melif\u001B[39;00m \u001B[38;5;28mlen\u001B[39m(args) \u001B[38;5;241m==\u001B[39m \u001B[38;5;241m1\u001B[39m:\n\u001B[0;32m    131\u001B[0m     message \u001B[38;5;241m=\u001B[39m args[\u001B[38;5;241m0\u001B[39m]\n",
      "File \u001B[1;32mD:\\Anaconda\\envs\\newpytorch\\lib\\site-packages\\labml\\internal\\logger\\__init__.py:36\u001B[0m, in \u001B[0;36mlogger_singleton\u001B[1;34m()\u001B[0m\n\u001B[0;32m     34\u001B[0m \u001B[38;5;28;01mglobal\u001B[39;00m _internal\n\u001B[0;32m     35\u001B[0m \u001B[38;5;28;01mif\u001B[39;00m _internal \u001B[38;5;129;01mis\u001B[39;00m \u001B[38;5;28;01mNone\u001B[39;00m:\n\u001B[1;32m---> 36\u001B[0m     _internal \u001B[38;5;241m=\u001B[39m \u001B[43mLogger\u001B[49m\u001B[43m(\u001B[49m\u001B[43m)\u001B[49m\n\u001B[0;32m     38\u001B[0m \u001B[38;5;28;01mreturn\u001B[39;00m _internal\n",
      "File \u001B[1;32mD:\\Anaconda\\envs\\newpytorch\\lib\\site-packages\\labml\\internal\\logger\\__init__.py:17\u001B[0m, in \u001B[0;36mLogger.__init__\u001B[1;34m(self)\u001B[0m\n\u001B[0;32m     16\u001B[0m \u001B[38;5;28;01mdef\u001B[39;00m \u001B[38;5;21m__init__\u001B[39m(\u001B[38;5;28mself\u001B[39m):\n\u001B[1;32m---> 17\u001B[0m     \u001B[38;5;28mself\u001B[39m\u001B[38;5;241m.\u001B[39m__destinations \u001B[38;5;241m=\u001B[39m \u001B[43mcreate_destination\u001B[49m\u001B[43m(\u001B[49m\u001B[43m)\u001B[49m\n\u001B[0;32m     18\u001B[0m     \u001B[38;5;28mself\u001B[39m\u001B[38;5;241m.\u001B[39m__inspect \u001B[38;5;241m=\u001B[39m Inspect(\u001B[38;5;28mself\u001B[39m)\n",
      "File \u001B[1;32mD:\\Anaconda\\envs\\newpytorch\\lib\\site-packages\\labml\\internal\\logger\\destinations\\factory.py:12\u001B[0m, in \u001B[0;36mcreate_destination\u001B[1;34m()\u001B[0m\n\u001B[0;32m     10\u001B[0m \u001B[38;5;28;01mif\u001B[39;00m is_ipynb():\n\u001B[0;32m     11\u001B[0m     \u001B[38;5;28;01mif\u001B[39;00m is_ipynb_pycharm():\n\u001B[1;32m---> 12\u001B[0m         \u001B[38;5;28;01mfrom\u001B[39;00m \u001B[38;5;21;01mlabml\u001B[39;00m\u001B[38;5;21;01m.\u001B[39;00m\u001B[38;5;21;01minternal\u001B[39;00m\u001B[38;5;21;01m.\u001B[39;00m\u001B[38;5;21;01mlogger\u001B[39;00m\u001B[38;5;21;01m.\u001B[39;00m\u001B[38;5;21;01mdestinations\u001B[39;00m\u001B[38;5;21;01m.\u001B[39;00m\u001B[38;5;21;01mipynb_pycharm\u001B[39;00m \u001B[38;5;28;01mimport\u001B[39;00m IpynbPyCharmDestination\n\u001B[0;32m     13\u001B[0m         \u001B[38;5;28;01mreturn\u001B[39;00m [IpynbPyCharmDestination(), ConsoleDestination(\u001B[38;5;28;01mFalse\u001B[39;00m)]\n\u001B[0;32m     14\u001B[0m     \u001B[38;5;28;01melse\u001B[39;00m:\n",
      "File \u001B[1;32mD:\\Anaconda\\envs\\newpytorch\\lib\\site-packages\\labml\\internal\\logger\\destinations\\ipynb_pycharm.py:5\u001B[0m\n\u001B[0;32m      2\u001B[0m \u001B[38;5;28;01mfrom\u001B[39;00m \u001B[38;5;21;01mtyping\u001B[39;00m \u001B[38;5;28;01mimport\u001B[39;00m List, Union, Tuple, Callable, Optional\n\u001B[0;32m      4\u001B[0m \u001B[38;5;28;01mfrom\u001B[39;00m \u001B[38;5;21;01mIPython\u001B[39;00m\u001B[38;5;21;01m.\u001B[39;00m\u001B[38;5;21;01mcore\u001B[39;00m\u001B[38;5;21;01m.\u001B[39;00m\u001B[38;5;21;01mdisplay\u001B[39;00m \u001B[38;5;28;01mimport\u001B[39;00m display\n\u001B[1;32m----> 5\u001B[0m \u001B[38;5;28;01mfrom\u001B[39;00m \u001B[38;5;21;01mipywidgets\u001B[39;00m \u001B[38;5;28;01mimport\u001B[39;00m HTML\n\u001B[0;32m      7\u001B[0m \u001B[38;5;28;01mfrom\u001B[39;00m \u001B[38;5;21;01mlabml\u001B[39;00m\u001B[38;5;21;01m.\u001B[39;00m\u001B[38;5;21;01minternal\u001B[39;00m\u001B[38;5;21;01m.\u001B[39;00m\u001B[38;5;21;01mutil\u001B[39;00m\u001B[38;5;21;01m.\u001B[39;00m\u001B[38;5;21;01mcolors\u001B[39;00m \u001B[38;5;28;01mimport\u001B[39;00m StyleCode\n\u001B[0;32m      8\u001B[0m \u001B[38;5;28;01mfrom\u001B[39;00m \u001B[38;5;21;01mlabml\u001B[39;00m\u001B[38;5;21;01m.\u001B[39;00m\u001B[38;5;21;01minternal\u001B[39;00m\u001B[38;5;21;01m.\u001B[39;00m\u001B[38;5;21;01mlogger\u001B[39;00m\u001B[38;5;21;01m.\u001B[39;00m\u001B[38;5;21;01mdestinations\u001B[39;00m \u001B[38;5;28;01mimport\u001B[39;00m Destination\n",
      "\u001B[1;31mModuleNotFoundError\u001B[0m: No module named 'ipywidgets'"
     ]
    }
   ],
   "execution_count": 10
  },
  {
   "cell_type": "markdown",
   "metadata": {
    "pycharm": {
     "name": "#%% md\n"
    }
   },
   "source": [
    "Initializ"
   ]
  },
  {
   "cell_type": "code",
   "metadata": {
    "pycharm": {
     "name": "#%%\n"
    }
   },
   "source": [
    "configs.init()"
   ],
   "outputs": [],
   "execution_count": null
  },
  {
   "cell_type": "markdown",
   "metadata": {
    "id": "EvI7MtgJ61w5",
    "pycharm": {
     "name": "#%% md\n"
    }
   },
   "source": [
    "Set PyTorch models for loading and saving"
   ]
  },
  {
   "cell_type": "code",
   "metadata": {
    "colab": {
     "base_uri": "https://localhost:8080/",
     "height": 255
    },
    "id": "GDlt7dp-5ALt",
    "outputId": "e7548e8f-c541-4618-dc5a-1597cae42003",
    "pycharm": {
     "name": "#%%\n"
    }
   },
   "source": [
    "experiment.add_pytorch_models({'eps_model': configs.eps_model})"
   ],
   "outputs": [],
   "execution_count": null
  },
  {
   "cell_type": "markdown",
   "metadata": {
    "id": "KJZRf8527GxL",
    "pycharm": {
     "name": "#%% md\n"
    }
   },
   "source": [
    "### Start the experiment and run the training loop."
   ]
  },
  {
   "cell_type": "code",
   "metadata": {
    "colab": {
     "base_uri": "https://localhost:8080/",
     "height": 1000
    },
    "id": "aIAWo7Fw5DR8",
    "outputId": "db979785-bfe3-4eda-d3eb-8ccbe61053e5",
    "pycharm": {
     "name": "#%%\n"
    }
   },
   "source": [
    "# Start the experiment\n",
    "with experiment.start():\n",
    "    configs.run()"
   ],
   "outputs": [],
   "execution_count": null
  },
  {
   "cell_type": "code",
   "metadata": {
    "pycharm": {
     "name": "#%%\n"
    }
   },
   "source": [],
   "outputs": [],
   "execution_count": null
  }
 ],
 "metadata": {
  "accelerator": "GPU",
  "colab": {
   "collapsed_sections": [],
   "name": "Denoising Diffusion Probabilistic Models (DDPM)",
   "provenance": []
  },
  "kernelspec": {
   "display_name": "Python 3 (ipykernel)",
   "language": "python",
   "name": "python3"
  },
  "language_info": {
   "codemirror_mode": {
    "name": "ipython",
    "version": 3
   },
   "file_extension": ".py",
   "mimetype": "text/x-python",
   "name": "python",
   "nbconvert_exporter": "python",
   "pygments_lexer": "ipython3",
   "version": "3.8.12"
  }
 },
 "nbformat": 4,
 "nbformat_minor": 4
}
